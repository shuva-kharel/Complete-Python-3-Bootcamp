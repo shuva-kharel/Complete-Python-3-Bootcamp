{
 "cells": [
  {
   "cell_type": "code",
   "execution_count": 24,
   "id": "17aa77e2-791d-4b12-b333-0f37bd527078",
   "metadata": {},
   "outputs": [],
   "source": [
    "name = \"Sam\""
   ]
  },
  {
   "cell_type": "code",
   "execution_count": 26,
   "id": "b1c641ff-6604-4179-b6ca-a0affd86d9d0",
   "metadata": {},
   "outputs": [
    {
     "data": {
      "text/plain": [
       "'S'"
      ]
     },
     "execution_count": 26,
     "metadata": {},
     "output_type": "execute_result"
    }
   ],
   "source": [
    "name[0]"
   ]
  },
  {
   "cell_type": "code",
   "execution_count": 30,
   "id": "4ed6f44b-f092-44db-b43c-a7366f727a79",
   "metadata": {},
   "outputs": [],
   "source": [
    "last_letters = name[1:]"
   ]
  },
  {
   "cell_type": "code",
   "execution_count": 32,
   "id": "b980e254-13f3-4304-ba8d-18422c343fb2",
   "metadata": {},
   "outputs": [
    {
     "data": {
      "text/plain": [
       "'am'"
      ]
     },
     "execution_count": 32,
     "metadata": {},
     "output_type": "execute_result"
    }
   ],
   "source": [
    "last_letters"
   ]
  },
  {
   "cell_type": "code",
   "execution_count": 34,
   "id": "a0246b04-984b-4133-a6ba-54949a4c63e4",
   "metadata": {},
   "outputs": [
    {
     "data": {
      "text/plain": [
       "'Pam'"
      ]
     },
     "execution_count": 34,
     "metadata": {},
     "output_type": "execute_result"
    }
   ],
   "source": [
    "'P' + last_letters"
   ]
  },
  {
   "cell_type": "code",
   "execution_count": 36,
   "id": "5c9e5b57-2f5f-4e89-ac42-a0cda3247209",
   "metadata": {},
   "outputs": [],
   "source": [
    "x = 'Hello World'"
   ]
  },
  {
   "cell_type": "code",
   "execution_count": 42,
   "id": "e9bdbc0f-1a86-45a3-9cbe-291f763062a4",
   "metadata": {},
   "outputs": [],
   "source": [
    "x= x + \"lol\""
   ]
  },
  {
   "cell_type": "code",
   "execution_count": 49,
   "id": "d354c042-94e5-4495-98b0-e3ae4aeb9e44",
   "metadata": {},
   "outputs": [
    {
     "data": {
      "text/plain": [
       "'Hello Worldlollol'"
      ]
     },
     "execution_count": 49,
     "metadata": {},
     "output_type": "execute_result"
    }
   ],
   "source": [
    "x"
   ]
  },
  {
   "cell_type": "code",
   "execution_count": 9,
   "id": "7542b920-a12b-45ff-925d-675f59965675",
   "metadata": {},
   "outputs": [
    {
     "name": "stdout",
     "output_type": "stream",
     "text": [
      "The fox fox gun\n"
     ]
    }
   ],
   "source": [
    "print(\"The {f} {f} {g}\".format(f='fox', g=\"gun\"))"
   ]
  },
  {
   "cell_type": "code",
   "execution_count": 37,
   "id": "046d8f0b-e497-427f-900f-37d848c073f7",
   "metadata": {},
   "outputs": [],
   "source": [
    "result = 22/7"
   ]
  },
  {
   "cell_type": "code",
   "execution_count": 39,
   "id": "3475b1e6-cd28-4981-b75b-8eb3feca7dd3",
   "metadata": {},
   "outputs": [
    {
     "name": "stdout",
     "output_type": "stream",
     "text": [
      "Result: 3.142857142857143\n"
     ]
    }
   ],
   "source": [
    "print(\"Result: {}\".format(result))"
   ]
  },
  {
   "cell_type": "code",
   "execution_count": 54,
   "id": "c7264f6a-ba04-4f29-bca8-6264a6904cf9",
   "metadata": {},
   "outputs": [
    {
     "name": "stdout",
     "output_type": "stream",
     "text": [
      "Result: 3.14\n"
     ]
    }
   ],
   "source": [
    "print(\"Result: {result:1.2f}\".format(result = result))"
   ]
  },
  {
   "cell_type": "code",
   "execution_count": 62,
   "id": "88d3012e-6a42-4137-9151-456859535a70",
   "metadata": {},
   "outputs": [],
   "source": [
    "name = \"Shuva\""
   ]
  },
  {
   "cell_type": "code",
   "execution_count": 64,
   "id": "393d6607-6b40-4295-be3b-bef1679f7535",
   "metadata": {},
   "outputs": [
    {
     "name": "stdout",
     "output_type": "stream",
     "text": [
      "Hello, Shuva\n"
     ]
    }
   ],
   "source": [
    "print(f\"Hello, {name}\")"
   ]
  },
  {
   "cell_type": "code",
   "execution_count": 80,
   "id": "ee075526-296c-4b4a-985d-e54096b8e2cf",
   "metadata": {},
   "outputs": [],
   "source": [
    "list1 = ['String', 1, 1.5]"
   ]
  },
  {
   "cell_type": "code",
   "execution_count": 86,
   "id": "8f757537-c68d-4b54-8f6f-03b963b60116",
   "metadata": {},
   "outputs": [
    {
     "data": {
      "text/plain": [
       "3"
      ]
     },
     "execution_count": 86,
     "metadata": {},
     "output_type": "execute_result"
    }
   ],
   "source": [
    "len(list1[0])"
   ]
  },
  {
   "cell_type": "code",
   "execution_count": 84,
   "id": "154e74cb-b3d0-4802-9025-c05ad1c01eac",
   "metadata": {},
   "outputs": [],
   "source": [
    "list1[0] = 'Hey'"
   ]
  },
  {
   "cell_type": "code",
   "execution_count": 108,
   "id": "6879b3bf-9909-4524-9226-170db2a1d8f7",
   "metadata": {},
   "outputs": [
    {
     "data": {
      "text/plain": [
       "['Hey', 1.5]"
      ]
     },
     "execution_count": 108,
     "metadata": {},
     "output_type": "execute_result"
    }
   ],
   "source": [
    "list1[0:3:2]"
   ]
  },
  {
   "cell_type": "code",
   "execution_count": null,
   "id": "a35e66a2-b2d6-4546-ae38-18158739852f",
   "metadata": {},
   "outputs": [],
   "source": []
  }
 ],
 "metadata": {
  "kernelspec": {
   "display_name": "Python [conda env:base] *",
   "language": "python",
   "name": "conda-base-py"
  },
  "language_info": {
   "codemirror_mode": {
    "name": "ipython",
    "version": 3
   },
   "file_extension": ".py",
   "mimetype": "text/x-python",
   "name": "python",
   "nbconvert_exporter": "python",
   "pygments_lexer": "ipython3",
   "version": "3.12.7"
  },
  "panel-cell-order": [
   "3a074222-8813-4d56-a60e-e21ba107cf27"
  ]
 },
 "nbformat": 4,
 "nbformat_minor": 5
}
