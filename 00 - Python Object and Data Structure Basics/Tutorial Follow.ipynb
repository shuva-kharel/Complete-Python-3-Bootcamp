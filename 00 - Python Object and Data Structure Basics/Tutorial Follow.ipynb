{
 "cells": [
  {
   "cell_type": "code",
   "execution_count": 6,
   "id": "17aa77e2-791d-4b12-b333-0f37bd527078",
   "metadata": {},
   "outputs": [],
   "source": [
    "name = \"Sam\""
   ]
  },
  {
   "cell_type": "code",
   "execution_count": 8,
   "id": "b1c641ff-6604-4179-b6ca-a0affd86d9d0",
   "metadata": {},
   "outputs": [
    {
     "data": {
      "text/plain": [
       "'S'"
      ]
     },
     "execution_count": 8,
     "metadata": {},
     "output_type": "execute_result"
    }
   ],
   "source": [
    "name[0]"
   ]
  },
  {
   "cell_type": "code",
   "execution_count": 10,
   "id": "4ed6f44b-f092-44db-b43c-a7366f727a79",
   "metadata": {},
   "outputs": [],
   "source": [
    "last_letters = name[1:]"
   ]
  },
  {
   "cell_type": "code",
   "execution_count": 12,
   "id": "b980e254-13f3-4304-ba8d-18422c343fb2",
   "metadata": {},
   "outputs": [
    {
     "data": {
      "text/plain": [
       "'am'"
      ]
     },
     "execution_count": 12,
     "metadata": {},
     "output_type": "execute_result"
    }
   ],
   "source": [
    "last_letters"
   ]
  },
  {
   "cell_type": "code",
   "execution_count": 14,
   "id": "a0246b04-984b-4133-a6ba-54949a4c63e4",
   "metadata": {},
   "outputs": [
    {
     "data": {
      "text/plain": [
       "'Pam'"
      ]
     },
     "execution_count": 14,
     "metadata": {},
     "output_type": "execute_result"
    }
   ],
   "source": [
    "'P' + last_letters"
   ]
  },
  {
   "cell_type": "code",
   "execution_count": 16,
   "id": "5c9e5b57-2f5f-4e89-ac42-a0cda3247209",
   "metadata": {},
   "outputs": [],
   "source": [
    "x = 'Hello World'"
   ]
  },
  {
   "cell_type": "code",
   "execution_count": 18,
   "id": "e9bdbc0f-1a86-45a3-9cbe-291f763062a4",
   "metadata": {},
   "outputs": [],
   "source": [
    "x= x + \"lol\""
   ]
  },
  {
   "cell_type": "code",
   "execution_count": 20,
   "id": "d354c042-94e5-4495-98b0-e3ae4aeb9e44",
   "metadata": {},
   "outputs": [
    {
     "data": {
      "text/plain": [
       "'Hello Worldlol'"
      ]
     },
     "execution_count": 20,
     "metadata": {},
     "output_type": "execute_result"
    }
   ],
   "source": [
    "x"
   ]
  },
  {
   "cell_type": "code",
   "execution_count": 22,
   "id": "7542b920-a12b-45ff-925d-675f59965675",
   "metadata": {},
   "outputs": [
    {
     "name": "stdout",
     "output_type": "stream",
     "text": [
      "The fox fox gun\n"
     ]
    }
   ],
   "source": [
    "print(\"The {f} {f} {g}\".format(f='fox', g=\"gun\"))"
   ]
  },
  {
   "cell_type": "code",
   "execution_count": 24,
   "id": "046d8f0b-e497-427f-900f-37d848c073f7",
   "metadata": {},
   "outputs": [],
   "source": [
    "result = 22/7"
   ]
  },
  {
   "cell_type": "code",
   "execution_count": 26,
   "id": "3475b1e6-cd28-4981-b75b-8eb3feca7dd3",
   "metadata": {},
   "outputs": [
    {
     "name": "stdout",
     "output_type": "stream",
     "text": [
      "Result: 3.142857142857143\n"
     ]
    }
   ],
   "source": [
    "print(\"Result: {}\".format(result))"
   ]
  },
  {
   "cell_type": "code",
   "execution_count": 28,
   "id": "c7264f6a-ba04-4f29-bca8-6264a6904cf9",
   "metadata": {},
   "outputs": [
    {
     "name": "stdout",
     "output_type": "stream",
     "text": [
      "Result: 3.14\n"
     ]
    }
   ],
   "source": [
    "print(\"Result: {result:1.2f}\".format(result = result))"
   ]
  },
  {
   "cell_type": "code",
   "execution_count": 30,
   "id": "88d3012e-6a42-4137-9151-456859535a70",
   "metadata": {},
   "outputs": [],
   "source": [
    "name = \"Shuva\""
   ]
  },
  {
   "cell_type": "code",
   "execution_count": 32,
   "id": "393d6607-6b40-4295-be3b-bef1679f7535",
   "metadata": {},
   "outputs": [
    {
     "name": "stdout",
     "output_type": "stream",
     "text": [
      "Hello, Shuva\n"
     ]
    }
   ],
   "source": [
    "print(f\"Hello, {name}\")"
   ]
  },
  {
   "cell_type": "code",
   "execution_count": 34,
   "id": "ee075526-296c-4b4a-985d-e54096b8e2cf",
   "metadata": {},
   "outputs": [],
   "source": [
    "list1 = ['String', 1, 1.5]"
   ]
  },
  {
   "cell_type": "code",
   "execution_count": 36,
   "id": "8f757537-c68d-4b54-8f6f-03b963b60116",
   "metadata": {},
   "outputs": [
    {
     "data": {
      "text/plain": [
       "6"
      ]
     },
     "execution_count": 36,
     "metadata": {},
     "output_type": "execute_result"
    }
   ],
   "source": [
    "len(list1[0])"
   ]
  },
  {
   "cell_type": "code",
   "execution_count": 38,
   "id": "154e74cb-b3d0-4802-9025-c05ad1c01eac",
   "metadata": {},
   "outputs": [],
   "source": [
    "list1[0] = 'Hey'"
   ]
  },
  {
   "cell_type": "code",
   "execution_count": 40,
   "id": "6879b3bf-9909-4524-9226-170db2a1d8f7",
   "metadata": {},
   "outputs": [
    {
     "data": {
      "text/plain": [
       "['Hey', 1.5]"
      ]
     },
     "execution_count": 40,
     "metadata": {},
     "output_type": "execute_result"
    }
   ],
   "source": [
    "list1[0:3:2]"
   ]
  },
  {
   "cell_type": "code",
   "execution_count": 52,
   "id": "11c8b5ef-882b-46f6-b8cf-a562b999a52f",
   "metadata": {},
   "outputs": [],
   "source": [
    "list1.append('Nigga')"
   ]
  },
  {
   "cell_type": "code",
   "execution_count": 54,
   "id": "62d4abbf-d245-4f8a-af9d-e7ab1cd9155d",
   "metadata": {},
   "outputs": [
    {
     "data": {
      "text/plain": [
       "['Hey', 1, 1.5, 'Nigga', 'Nigga']"
      ]
     },
     "execution_count": 54,
     "metadata": {},
     "output_type": "execute_result"
    }
   ],
   "source": [
    "list1"
   ]
  },
  {
   "cell_type": "code",
   "execution_count": 56,
   "id": "b6c43616-b4e9-4077-99e0-6cebca31d980",
   "metadata": {},
   "outputs": [
    {
     "data": {
      "text/plain": [
       "'Nigga'"
      ]
     },
     "execution_count": 56,
     "metadata": {},
     "output_type": "execute_result"
    }
   ],
   "source": [
    "list1.pop()"
   ]
  },
  {
   "cell_type": "code",
   "execution_count": 58,
   "id": "0d4dc35a-458b-482f-936d-84b0f02b8fac",
   "metadata": {},
   "outputs": [
    {
     "data": {
      "text/plain": [
       "['Hey', 1, 1.5, 'Nigga']"
      ]
     },
     "execution_count": 58,
     "metadata": {},
     "output_type": "execute_result"
    }
   ],
   "source": [
    "list1"
   ]
  },
  {
   "cell_type": "code",
   "execution_count": 60,
   "id": "7a8d5732-8d19-4a5e-804d-b45c72d4d0ca",
   "metadata": {},
   "outputs": [
    {
     "data": {
      "text/plain": [
       "'Nigga'"
      ]
     },
     "execution_count": 60,
     "metadata": {},
     "output_type": "execute_result"
    }
   ],
   "source": [
    "list1.pop(3)"
   ]
  },
  {
   "cell_type": "code",
   "execution_count": 62,
   "id": "07d5bb7d-3e53-48d9-a1b8-16574975851f",
   "metadata": {},
   "outputs": [
    {
     "data": {
      "text/plain": [
       "['Hey', 1, 1.5]"
      ]
     },
     "execution_count": 62,
     "metadata": {},
     "output_type": "execute_result"
    }
   ],
   "source": [
    "list1"
   ]
  },
  {
   "cell_type": "code",
   "execution_count": 70,
   "id": "b74adee2-daa3-48ad-ab6e-b66326379ac0",
   "metadata": {},
   "outputs": [],
   "source": [
    "list2 = ['a', 'e', 'z', 'p', 'r', 'g', 'l', 'c']\n",
    "list3 = [1,8,2,7,5,4,6]"
   ]
  },
  {
   "cell_type": "code",
   "execution_count": 72,
   "id": "8d1b1551-b83d-4df6-a71a-8bd571a52714",
   "metadata": {},
   "outputs": [],
   "source": [
    "list2.sort()"
   ]
  },
  {
   "cell_type": "code",
   "execution_count": 74,
   "id": "4917ee4c-d7fc-482d-8a82-1a8b447e0516",
   "metadata": {},
   "outputs": [
    {
     "data": {
      "text/plain": [
       "['a', 'c', 'e', 'g', 'l', 'p', 'r', 'z']"
      ]
     },
     "execution_count": 74,
     "metadata": {},
     "output_type": "execute_result"
    }
   ],
   "source": [
    "list2"
   ]
  },
  {
   "cell_type": "code",
   "execution_count": 76,
   "id": "e6d9949b-577a-4c8e-a9f4-1f8934384cbe",
   "metadata": {},
   "outputs": [],
   "source": [
    "list3.sort()"
   ]
  },
  {
   "cell_type": "code",
   "execution_count": 78,
   "id": "cc8d5499-0559-4390-9351-874d5b06a8fc",
   "metadata": {},
   "outputs": [
    {
     "data": {
      "text/plain": [
       "[1, 2, 4, 5, 6, 7, 8]"
      ]
     },
     "execution_count": 78,
     "metadata": {},
     "output_type": "execute_result"
    }
   ],
   "source": [
    "list3"
   ]
  },
  {
   "cell_type": "code",
   "execution_count": 82,
   "id": "af1e994d-cc4e-4ab6-8005-37cd01479a38",
   "metadata": {},
   "outputs": [],
   "source": [
    "list3.reverse()"
   ]
  },
  {
   "cell_type": "code",
   "execution_count": 84,
   "id": "00f1830c-0868-434b-90a7-e36ee961a5e8",
   "metadata": {},
   "outputs": [
    {
     "data": {
      "text/plain": [
       "[8, 7, 6, 5, 4, 2, 1]"
      ]
     },
     "execution_count": 84,
     "metadata": {},
     "output_type": "execute_result"
    }
   ],
   "source": [
    "list3"
   ]
  },
  {
   "cell_type": "code",
   "execution_count": 88,
   "id": "f6074040-5114-454a-97df-0773c7381b69",
   "metadata": {},
   "outputs": [],
   "source": [
    "price = {'apple':100,'banana':20}"
   ]
  },
  {
   "cell_type": "code",
   "execution_count": 92,
   "id": "686c60bb-8ea0-4be7-a02a-4a24595e5d0d",
   "metadata": {},
   "outputs": [
    {
     "data": {
      "text/plain": [
       "100"
      ]
     },
     "execution_count": 92,
     "metadata": {},
     "output_type": "execute_result"
    }
   ],
   "source": [
    "price['apple']"
   ]
  },
  {
   "cell_type": "code",
   "execution_count": 127,
   "id": "28add210-0703-4cba-911a-40385d36f3f6",
   "metadata": {},
   "outputs": [],
   "source": [
    "info = {'name':{'Shuva', 'Shiva Chowkh, Ktm', 'Samanyu', 'Nayabasti, Ktm'}}"
   ]
  },
  {
   "cell_type": "code",
   "execution_count": 143,
   "id": "45c31f1c-3936-4e28-bdce-08ced9d34150",
   "metadata": {},
   "outputs": [
    {
     "data": {
      "text/plain": [
       "{'Nayabasti, Ktm', 'Samanyu', 'Shiva Chowkh, Ktm', 'Shuva'}"
      ]
     },
     "execution_count": 143,
     "metadata": {},
     "output_type": "execute_result"
    }
   ],
   "source": [
    "info['name']"
   ]
  },
  {
   "cell_type": "code",
   "execution_count": 157,
   "id": "75ba5524-b67e-4fb6-a97c-c571b9b4e172",
   "metadata": {},
   "outputs": [
    {
     "data": {
      "text/plain": [
       "dict_keys(['name'])"
      ]
     },
     "execution_count": 157,
     "metadata": {},
     "output_type": "execute_result"
    }
   ],
   "source": [
    "info.keys()"
   ]
  },
  {
   "cell_type": "code",
   "execution_count": 159,
   "id": "bf111605-3468-4454-9255-ca6c3145d692",
   "metadata": {},
   "outputs": [
    {
     "data": {
      "text/plain": [
       "dict_values([{'Shuva', 'Shiva Chowkh, Ktm', 'Nayabasti, Ktm', 'Samanyu'}])"
      ]
     },
     "execution_count": 159,
     "metadata": {},
     "output_type": "execute_result"
    }
   ],
   "source": [
    "info.values()"
   ]
  },
  {
   "cell_type": "code",
   "execution_count": 165,
   "id": "98d5a476-42d5-4a72-abed-1cb49dcba2e8",
   "metadata": {},
   "outputs": [
    {
     "data": {
      "text/plain": [
       "tuple"
      ]
     },
     "execution_count": 165,
     "metadata": {},
     "output_type": "execute_result"
    }
   ],
   "source": [
    "tuple1 = (1,2,3)\n",
    "type(tuple1)"
   ]
  },
  {
   "cell_type": "code",
   "execution_count": 167,
   "id": "95cde911-afb5-47bb-a66e-810e968b3726",
   "metadata": {},
   "outputs": [
    {
     "data": {
      "text/plain": [
       "3"
      ]
     },
     "execution_count": 167,
     "metadata": {},
     "output_type": "execute_result"
    }
   ],
   "source": [
    "len(tuple1)"
   ]
  },
  {
   "cell_type": "code",
   "execution_count": 172,
   "id": "23f71978-44bc-4456-b265-491fb574a6b3",
   "metadata": {},
   "outputs": [],
   "source": [
    "set1 = {1}"
   ]
  },
  {
   "cell_type": "code",
   "execution_count": 174,
   "id": "c1c82bb0-c483-4a5b-b041-8e9f9aba7a86",
   "metadata": {},
   "outputs": [],
   "source": [
    "set1.add(2)"
   ]
  },
  {
   "cell_type": "code",
   "execution_count": 176,
   "id": "65b88b76-67f0-4e10-a42b-e7bc0749bbfc",
   "metadata": {},
   "outputs": [],
   "source": [
    "set1.add(2)"
   ]
  },
  {
   "cell_type": "code",
   "execution_count": 182,
   "id": "fe39291c-97c3-4f8c-90a0-b346fdba3d02",
   "metadata": {},
   "outputs": [
    {
     "data": {
      "text/plain": [
       "{1, 2}"
      ]
     },
     "execution_count": 182,
     "metadata": {},
     "output_type": "execute_result"
    }
   ],
   "source": [
    "set1"
   ]
  },
  {
   "cell_type": "code",
   "execution_count": 186,
   "id": "a5cd52ab-84d3-42f8-997d-b706c6bc4f4c",
   "metadata": {},
   "outputs": [
    {
     "name": "stdout",
     "output_type": "stream",
     "text": [
      "Writing myfile.txt\n"
     ]
    }
   ],
   "source": [
    "%%writefile myfile.txt\n",
    "Hello World\n",
    "2nd Line\n",
    "And the 3rd Line"
   ]
  },
  {
   "cell_type": "code",
   "execution_count": 198,
   "id": "9cf6035c-6154-4541-b003-2d70cc0c1423",
   "metadata": {},
   "outputs": [],
   "source": [
    "myfile = open(\"myfile.txt\")"
   ]
  },
  {
   "cell_type": "code",
   "execution_count": 214,
   "id": "74d45aa3-25d2-4843-bc10-5b68be37edfb",
   "metadata": {},
   "outputs": [
    {
     "data": {
      "text/plain": [
       "'C:\\\\Users\\\\Shuva\\\\Python Projects'"
      ]
     },
     "execution_count": 214,
     "metadata": {},
     "output_type": "execute_result"
    }
   ],
   "source": [
    "pwd"
   ]
  },
  {
   "cell_type": "code",
   "execution_count": 216,
   "id": "ef45a611-3495-4070-8ca4-f9ce0fec33a7",
   "metadata": {},
   "outputs": [
    {
     "data": {
      "text/plain": [
       "'Hello World\\n2nd Line\\nAnd the 3rd Line\\n'"
      ]
     },
     "execution_count": 216,
     "metadata": {},
     "output_type": "execute_result"
    }
   ],
   "source": [
    "myfile.read()"
   ]
  },
  {
   "cell_type": "code",
   "execution_count": 218,
   "id": "a38a8d29-951f-4b6f-bbc5-1b0dd86ac10c",
   "metadata": {},
   "outputs": [
    {
     "data": {
      "text/plain": [
       "''"
      ]
     },
     "execution_count": 218,
     "metadata": {},
     "output_type": "execute_result"
    }
   ],
   "source": [
    "myfile.read()"
   ]
  },
  {
   "cell_type": "code",
   "execution_count": 236,
   "id": "422a9630-32bd-4585-92ac-34a38ade7503",
   "metadata": {},
   "outputs": [
    {
     "data": {
      "text/plain": [
       "0"
      ]
     },
     "execution_count": 236,
     "metadata": {},
     "output_type": "execute_result"
    }
   ],
   "source": [
    "myfile.seek(0)"
   ]
  },
  {
   "cell_type": "code",
   "execution_count": 226,
   "id": "76b2f1c5-f3f7-4a5a-848f-511f099fdd35",
   "metadata": {},
   "outputs": [
    {
     "data": {
      "text/plain": [
       "'Hello World\\n2nd Line\\nAnd the 3rd Line\\n'"
      ]
     },
     "execution_count": 226,
     "metadata": {},
     "output_type": "execute_result"
    }
   ],
   "source": [
    "myfile.read()"
   ]
  },
  {
   "cell_type": "code",
   "execution_count": 238,
   "id": "41d17140-205e-4561-86eb-7c6267ec1f8f",
   "metadata": {},
   "outputs": [
    {
     "data": {
      "text/plain": [
       "['Hello World\\n', '2nd Line\\n', 'And the 3rd Line\\n']"
      ]
     },
     "execution_count": 238,
     "metadata": {},
     "output_type": "execute_result"
    }
   ],
   "source": [
    "myfile.readlines()"
   ]
  },
  {
   "cell_type": "code",
   "execution_count": 256,
   "id": "51f5bc1c-58b5-4509-8aa2-ecbb73a6db01",
   "metadata": {},
   "outputs": [],
   "source": [
    "myfile.close()"
   ]
  },
  {
   "cell_type": "code",
   "execution_count": 274,
   "id": "81239dec-ae71-481f-849c-a1e2c8f3b488",
   "metadata": {},
   "outputs": [],
   "source": [
    "myfile2 = open(\"C:\\\\Users\\\\Shuva\\\\Desktop\\\\text.txt\", mode='r+')"
   ]
  },
  {
   "cell_type": "code",
   "execution_count": 276,
   "id": "eb116224-5d47-4000-9e0c-40366de3692c",
   "metadata": {},
   "outputs": [
    {
     "data": {
      "text/plain": [
       "9"
      ]
     },
     "execution_count": 276,
     "metadata": {},
     "output_type": "execute_result"
    }
   ],
   "source": [
    "myfile2.write(\"Hello Bro\")"
   ]
  },
  {
   "cell_type": "code",
   "execution_count": 282,
   "id": "e5ccade6-6ed9-468a-8661-a9bcc5dbc3b0",
   "metadata": {},
   "outputs": [
    {
     "data": {
      "text/plain": [
       "'Hello BrogaHello Nigga'"
      ]
     },
     "execution_count": 282,
     "metadata": {},
     "output_type": "execute_result"
    }
   ],
   "source": [
    "myfile2.read()"
   ]
  },
  {
   "cell_type": "code",
   "execution_count": 280,
   "id": "70294262-8a48-4edc-82f0-ed4700b6c037",
   "metadata": {},
   "outputs": [
    {
     "data": {
      "text/plain": [
       "0"
      ]
     },
     "execution_count": 280,
     "metadata": {},
     "output_type": "execute_result"
    }
   ],
   "source": [
    "myfile2.seek(0)"
   ]
  },
  {
   "cell_type": "code",
   "execution_count": null,
   "id": "cb63e76a-373b-4d0f-a4f7-963d8c3eb878",
   "metadata": {},
   "outputs": [],
   "source": []
  }
 ],
 "metadata": {
  "kernelspec": {
   "display_name": "Python [conda env:base] *",
   "language": "python",
   "name": "conda-base-py"
  },
  "language_info": {
   "codemirror_mode": {
    "name": "ipython",
    "version": 3
   },
   "file_extension": ".py",
   "mimetype": "text/x-python",
   "name": "python",
   "nbconvert_exporter": "python",
   "pygments_lexer": "ipython3",
   "version": "3.12.7"
  },
  "panel-cell-order": [
   "3a074222-8813-4d56-a60e-e21ba107cf27"
  ]
 },
 "nbformat": 4,
 "nbformat_minor": 5
}
